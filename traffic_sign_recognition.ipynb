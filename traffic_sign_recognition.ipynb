{
  "nbformat": 4,
  "nbformat_minor": 0,
  "metadata": {
    "colab": {
      "name": "Untitletraffic_sign_recognition",
      "provenance": [],
      "toc_visible": true,
      "mount_file_id": "1EYoQi593qs89EK4LKTp2gkVqrZzIAihy",
      "authorship_tag": "ABX9TyNnd2Uui/+vWWKg28MhHy1x",
      "include_colab_link": true
    },
    "kernelspec": {
      "name": "python3",
      "display_name": "Python 3"
    },
    "language_info": {
      "name": "python"
    }
  },
  "cells": [
    {
      "cell_type": "markdown",
      "metadata": {
        "id": "view-in-github",
        "colab_type": "text"
      },
      "source": [
        "<a href=\"https://colab.research.google.com/github/gayathriramanesh/Automatic_lane_detector_and_traffic_sign_recognition/blob/main/traffic_sign_recognition.ipynb\" target=\"_parent\"><img src=\"https://colab.research.google.com/assets/colab-badge.svg\" alt=\"Open In Colab\"/></a>"
      ]
    },
    {
      "cell_type": "code",
      "execution_count": 16,
      "metadata": {
        "id": "yVXdyIorlHWn"
      },
      "outputs": [],
      "source": [
        "import numpy as np\n",
        "import pandas as pd\n",
        "import matplotlib.pyplot as plt\n",
        "import cv2\n",
        "import tensorflow as tf\n",
        "from PIL import Image\n",
        "from sklearn.model_selection import train_test_split\n",
        "from tensorflow.keras.utils import to_categorical\n",
        "from keras.models import Sequential, load_model\n",
        "from keras.layers import Conv2D, MaxPool2D, Dense, Flatten, Dropout\n",
        "import os\n",
        "os.chdir('/content/drive/MyDrive/project')"
      ]
    },
    {
      "cell_type": "code",
      "source": [
        "from google.colab import drive\n",
        "drive.mount('/content/drive')"
      ],
      "metadata": {
        "colab": {
          "base_uri": "https://localhost:8080/"
        },
        "id": "9vCuKC2ERNe8",
        "outputId": "1895969f-4300-4f8a-edf6-1826520b4f23"
      },
      "execution_count": null,
      "outputs": [
        {
          "output_type": "stream",
          "name": "stdout",
          "text": [
            "Drive already mounted at /content/drive; to attempt to forcibly remount, call drive.mount(\"/content/drive\", force_remount=True).\n"
          ]
        }
      ]
    },
    {
      "cell_type": "code",
      "source": [
        "data =[]\n",
        "labels = []\n",
        "classes =43 \n",
        "cur_path = os.getcwd()\n",
        "print(cur_path)"
      ],
      "metadata": {
        "colab": {
          "base_uri": "https://localhost:8080/"
        },
        "id": "xdH-NjNKSr4d",
        "outputId": "56e8e941-4887-4915-f1c4-8c1b680ba090"
      },
      "execution_count": 2,
      "outputs": [
        {
          "output_type": "stream",
          "name": "stdout",
          "text": [
            "/content/drive/MyDrive/project\n"
          ]
        }
      ]
    },
    {
      "cell_type": "code",
      "source": [
        "for i in range(classes):     \n",
        "    path = os.path.join(cur_path,'Train',str(i))     \n",
        "    images = os.listdir(path)\n",
        "    for a in images:\n",
        "        try:             \n",
        "            image = Image.open(path +'/'+ a)           \n",
        "            image = image.resize((30,30)) \n",
        "            # Resizing all images into 30*30                                                 \n",
        "            image =np.array(image)             \n",
        "            data.append(image)             \n",
        "            labels.append(i)\n",
        "        except Exception as e:\n",
        "            print(e)"
      ],
      "metadata": {
        "id": "Yj7yf9H5SxCW"
      },
      "execution_count": 3,
      "outputs": []
    },
    {
      "cell_type": "code",
      "source": [
        "data = np.array(data) \n",
        "labels = np.array(labels)\n",
        "print(data.shape, labels.shape) "
      ],
      "metadata": {
        "colab": {
          "base_uri": "https://localhost:8080/"
        },
        "id": "8UgP2s3msbfO",
        "outputId": "b103defc-d800-473b-826f-7cd2d6cff296"
      },
      "execution_count": 4,
      "outputs": [
        {
          "output_type": "stream",
          "name": "stdout",
          "text": [
            "(39230, 30, 30, 3) (39230,)\n"
          ]
        }
      ]
    },
    {
      "cell_type": "code",
      "source": [
        "X_train, X_test, y_train, y_test =train_test_split(data, labels, test_size=0.2, random_state=0)\n",
        "print(X_train.shape, X_test.shape, y_train.shape, y_test.shape) \n"
      ],
      "metadata": {
        "colab": {
          "base_uri": "https://localhost:8080/"
        },
        "id": "aJrCPMUVsq-h",
        "outputId": "2e165abc-631b-41c4-8154-415517fe017e"
      },
      "execution_count": 5,
      "outputs": [
        {
          "output_type": "stream",
          "name": "stdout",
          "text": [
            "(31384, 30, 30, 3) (7846, 30, 30, 3) (31384,) (7846,)\n"
          ]
        }
      ]
    },
    {
      "cell_type": "code",
      "source": [
        "y_train = to_categorical(y_train,43) \n",
        "y_test = to_categorical(y_test,43)"
      ],
      "metadata": {
        "id": "KZVD6O_Zs2pr"
      },
      "execution_count": 6,
      "outputs": []
    },
    {
      "cell_type": "code",
      "source": [
        "model =Sequential() \n",
        "model.add(Conv2D(filters=32, kernel_size=(5,5), activation='relu', input_shape=X_train.shape[1:])) \n",
        "model.add(Conv2D(filters=32, kernel_size=(5,5), activation='relu'))\n",
        "model.add(MaxPool2D(pool_size=(2,2)))\n",
        "model.add(Dropout(rate=0.25))\n",
        "model.add(Conv2D(filters=64, kernel_size=(3,3), activation='relu')) \n",
        "model.add(Conv2D(filters=64, kernel_size=(3,3), activation='relu')) \n",
        "model.add(MaxPool2D(pool_size=(2,2)))\n",
        "model.add(Dropout(rate=0.25)) \n",
        "model.add(Flatten()) \n",
        "model.add(Dense(256, activation='relu'))\n",
        "model.add(Dropout(rate=0.5))\n",
        "model.add(Dense(43, activation='softmax'))"
      ],
      "metadata": {
        "id": "KtjGbNkss5f1"
      },
      "execution_count": 18,
      "outputs": []
    },
    {
      "cell_type": "code",
      "source": [
        "model.compile(loss='categorical_crossentropy', optimizer='adam', metrics=['accuracy'])\n",
        "epochs = 20 \n",
        "history = model.fit(X_train, y_train, batch_size=32, epochs=epochs, validation_data=(X_test, y_test))"
      ],
      "metadata": {
        "colab": {
          "base_uri": "https://localhost:8080/"
        },
        "id": "J4LT18iKs797",
        "outputId": "dad41dbf-935e-4d7f-c9ce-c4556efcfeaa"
      },
      "execution_count": 19,
      "outputs": [
        {
          "output_type": "stream",
          "name": "stdout",
          "text": [
            "Epoch 1/20\n",
            "981/981 [==============================] - 136s 138ms/step - loss: 2.1701 - accuracy: 0.4574 - val_loss: 0.6697 - val_accuracy: 0.8425\n",
            "Epoch 2/20\n",
            "981/981 [==============================] - 136s 139ms/step - loss: 0.9105 - accuracy: 0.7303 - val_loss: 0.3454 - val_accuracy: 0.9071\n",
            "Epoch 3/20\n",
            "981/981 [==============================] - 135s 137ms/step - loss: 0.6239 - accuracy: 0.8144 - val_loss: 0.2596 - val_accuracy: 0.9322\n",
            "Epoch 4/20\n",
            "981/981 [==============================] - 135s 138ms/step - loss: 0.4445 - accuracy: 0.8669 - val_loss: 0.1704 - val_accuracy: 0.9539\n",
            "Epoch 5/20\n",
            "981/981 [==============================] - 135s 138ms/step - loss: 0.3673 - accuracy: 0.8927 - val_loss: 0.1119 - val_accuracy: 0.9694\n",
            "Epoch 6/20\n",
            "981/981 [==============================] - 135s 138ms/step - loss: 0.3109 - accuracy: 0.9087 - val_loss: 0.1152 - val_accuracy: 0.9690\n",
            "Epoch 7/20\n",
            "981/981 [==============================] - 135s 138ms/step - loss: 0.2959 - accuracy: 0.9131 - val_loss: 0.1047 - val_accuracy: 0.9726\n",
            "Epoch 8/20\n",
            "981/981 [==============================] - 134s 137ms/step - loss: 0.2709 - accuracy: 0.9238 - val_loss: 0.1415 - val_accuracy: 0.9601\n",
            "Epoch 9/20\n",
            "981/981 [==============================] - 135s 138ms/step - loss: 0.2784 - accuracy: 0.9192 - val_loss: 0.0879 - val_accuracy: 0.9769\n",
            "Epoch 10/20\n",
            "981/981 [==============================] - 134s 137ms/step - loss: 0.2467 - accuracy: 0.9285 - val_loss: 0.0869 - val_accuracy: 0.9778\n",
            "Epoch 11/20\n",
            "981/981 [==============================] - 133s 136ms/step - loss: 0.2452 - accuracy: 0.9318 - val_loss: 0.0921 - val_accuracy: 0.9767\n",
            "Epoch 12/20\n",
            "981/981 [==============================] - 133s 135ms/step - loss: 0.2226 - accuracy: 0.9352 - val_loss: 0.0730 - val_accuracy: 0.9823\n",
            "Epoch 13/20\n",
            "981/981 [==============================] - 134s 136ms/step - loss: 0.2078 - accuracy: 0.9413 - val_loss: 0.1198 - val_accuracy: 0.9655\n",
            "Epoch 14/20\n",
            "981/981 [==============================] - 134s 136ms/step - loss: 0.2304 - accuracy: 0.9330 - val_loss: 0.0760 - val_accuracy: 0.9805\n",
            "Epoch 15/20\n",
            "981/981 [==============================] - 134s 137ms/step - loss: 0.2245 - accuracy: 0.9366 - val_loss: 0.0979 - val_accuracy: 0.9711\n",
            "Epoch 16/20\n",
            "981/981 [==============================] - 134s 136ms/step - loss: 0.2352 - accuracy: 0.9345 - val_loss: 0.0909 - val_accuracy: 0.9767\n",
            "Epoch 17/20\n",
            "981/981 [==============================] - 133s 136ms/step - loss: 0.2022 - accuracy: 0.9418 - val_loss: 0.0634 - val_accuracy: 0.9846\n",
            "Epoch 18/20\n",
            "981/981 [==============================] - 133s 136ms/step - loss: 0.2208 - accuracy: 0.9392 - val_loss: 0.0838 - val_accuracy: 0.9790\n",
            "Epoch 19/20\n",
            "981/981 [==============================] - 134s 136ms/step - loss: 0.2207 - accuracy: 0.9384 - val_loss: 0.0872 - val_accuracy: 0.9764\n",
            "Epoch 20/20\n",
            "981/981 [==============================] - 135s 138ms/step - loss: 0.2412 - accuracy: 0.9321 - val_loss: 0.0867 - val_accuracy: 0.9791\n"
          ]
        }
      ]
    },
    {
      "cell_type": "code",
      "source": [
        "model.save(\"./training/TSR.h5\")"
      ],
      "metadata": {
        "id": "i5VBHMQF8XgL"
      },
      "execution_count": 20,
      "outputs": []
    },
    {
      "cell_type": "code",
      "source": [
        "import os\n",
        "model = load_model(\"./training/TSR.h5\")\n"
      ],
      "metadata": {
        "id": "ue9PwV2v8jvb"
      },
      "execution_count": 21,
      "outputs": []
    },
    {
      "cell_type": "code",
      "source": [
        "classes = { 0:'Speed limit (20km/h)',\n",
        "            1:'Speed limit (30km/h)',\n",
        "            2:'Speed limit (50km/h)',\n",
        "            3:'Speed limit (60km/h)',\n",
        "            4:'Speed limit (70km/h)',\n",
        "            5:'Speed limit (80km/h)',\n",
        "            6:'End of speed limit (80km/h)',\n",
        "            7:'Speed limit (100km/h)',\n",
        "            8:'Speed limit (120km/h)',\n",
        "            9:'No passing',\n",
        "            10:'No passing veh over 3.5 tons',\n",
        "            11:'Right-of-way at intersection',\n",
        "            12:'Priority road',\n",
        "            13:'Yield',\n",
        "            14:'Stop',\n",
        "            15:'No vehicles',\n",
        "            16:'Vehicle > 3.5 tons prohibited',\n",
        "            17:'No entry',\n",
        "            18:'General caution',\n",
        "            19:'Dangerous curve left',\n",
        "            20:'Dangerous curve right',\n",
        "            21:'Double curve',\n",
        "            22:'Bumpy road',\n",
        "            23:'Slippery road',\n",
        "            24:'Road narrows on the right',\n",
        "            25:'Road work',\n",
        "            26:'Traffic signals',\n",
        "            27:'Pedestrians',\n",
        "            28:'Children crossing',\n",
        "            29:'Bicycles crossing',\n",
        "            30:'Beware of ice/snow',\n",
        "            31:'Wild animals crossing',\n",
        "            32:'End speed + passing limits',\n",
        "            33:'Turn right ahead',\n",
        "            34:'Turn left ahead',\n",
        "            35:'Ahead only',\n",
        "            36:'Go straight or right',\n",
        "            37:'Go straight or left',\n",
        "            38:'Keep right',\n",
        "            39:'Keep left',\n",
        "            40:'Roundabout mandatory',\n",
        "            41:'End of no passing',\n",
        "            42:'End no passing vehicle > 3.5 tons' }"
      ],
      "metadata": {
        "id": "Dz60Q83H89qi"
      },
      "execution_count": 22,
      "outputs": []
    },
    {
      "cell_type": "code",
      "source": [
        " def test_on_img(img):\n",
        "    data=[]   \n",
        "    image = Image.open(img)\n",
        "    image = image.resize((30,30))\n",
        "    data.append(np.array(image))\n",
        "    X_test = np.array(data)\n",
        "    Y_pred=np.argmax(model.predict(X_test), axis=-1)\n",
        "    return image,Y_pred"
      ],
      "metadata": {
        "id": "1wZnuVe99AuI"
      },
      "execution_count": 31,
      "outputs": []
    },
    {
      "cell_type": "code",
      "source": [
        "plot,prediction = test_on_img(r'/content/drive/MyDrive/project/Test/00001.png')\n",
        "s = [str(i) for i in prediction]\n",
        "a = int(\"\".join(s))\n",
        "print(\"Predicted traffic sign is\",classes[a])\n",
        "plt.imshow(plot)\n",
        "plt.show()"
      ],
      "metadata": {
        "colab": {
          "base_uri": "https://localhost:8080/",
          "height": 283
        },
        "id": "bECc0H3a9a4h",
        "outputId": "d23c573f-68a4-4e9d-c63f-9bbc9b1ecbdc"
      },
      "execution_count": 34,
      "outputs": [
        {
          "output_type": "stream",
          "name": "stdout",
          "text": [
            "Predicted traffic sign is Speed limit (30km/h)\n"
          ]
        },
        {
          "output_type": "display_data",
          "data": {
            "text/plain": [
              "<Figure size 432x288 with 1 Axes>"
            ],
            "image/png": "[encoded data removed]"
          },
          "metadata": {
            "needs_background": "light"
          }
        }
      ]
    }
  ]
}